{
 "cells": [
  {
   "cell_type": "markdown",
   "id": "b52aadce-942e-4386-ba5d-a011d56c40bb",
   "metadata": {
    "tags": []
   },
   "source": [
    "# Data Science Tools and Ecosystem"
   ]
  },
  {
   "cell_type": "markdown",
   "id": "736e924c-aaa1-441c-b07b-2e342c46d3b1",
   "metadata": {},
   "source": [
    "In this notebook I will talk about several Data Science Tools and its ecosystem"
   ]
  },
  {
   "cell_type": "markdown",
   "id": "3399b903-daf3-461e-86db-3475b993a2e4",
   "metadata": {},
   "source": [
    "**Objectives**\n",
    "- Data Science languages\n",
    "- Data Science libraries\n",
    "- Arithmetic expressions in Python"
   ]
  },
  {
   "cell_type": "markdown",
   "id": "9283fe3a-f0bc-44e0-8e85-fe8315730530",
   "metadata": {},
   "source": [
    "## Author\n",
    "Marco Berlanga"
   ]
  },
  {
   "cell_type": "markdown",
   "id": "7fd6b9bb-134b-48ef-9a60-f9e634ec161d",
   "metadata": {},
   "source": [
    "Some of the most used Data Science languages are:\n",
    "1. Python\n",
    "2. R\n",
    "3. SQL\n",
    "4. Julia\n",
    "5. C"
   ]
  },
  {
   "cell_type": "markdown",
   "id": "8239f7ab-941f-48ee-a63c-69c9e95b44b1",
   "metadata": {},
   "source": [
    "Also some of the most used libraries in these languages are:\n",
    "1. NumPy\n",
    "2. Sickit-learn\n",
    "3. Tensorflow\n",
    "4. ggplot2\n",
    "5. plotly"
   ]
  },
  {
   "cell_type": "markdown",
   "id": "13d038ab-2207-451f-be68-3c5e3f50eace",
   "metadata": {},
   "source": [
    "| Data Science Tools |\n",
    "| -------------- |\n",
    "| Jupyter Notebook / Lab |\n",
    "| RStudio |\n",
    "| PyCharm |"
   ]
  },
  {
   "cell_type": "markdown",
   "id": "fbe9222f-da2a-4c60-8725-80de65d239ed",
   "metadata": {},
   "source": [
    "### Below are examples of evaluation of arithmetic expressions in Python"
   ]
  },
  {
   "cell_type": "code",
   "execution_count": 4,
   "id": "17d02772-0729-42ad-801e-44d400eb986f",
   "metadata": {},
   "outputs": [
    {
     "data": {
      "text/plain": [
       "17"
      ]
     },
     "execution_count": 4,
     "metadata": {},
     "output_type": "execute_result"
    }
   ],
   "source": [
    "#This a simple arithmetic expression to mutiply then add integer\n",
    "\n",
    "(3*4)+5"
   ]
  },
  {
   "cell_type": "code",
   "execution_count": 5,
   "id": "c576081f-2da9-428d-85e4-be4434074081",
   "metadata": {},
   "outputs": [
    {
     "data": {
      "text/plain": [
       "3.3333333333333335"
      ]
     },
     "execution_count": 5,
     "metadata": {},
     "output_type": "execute_result"
    }
   ],
   "source": [
    "#This will convert 200 minutes to hours by diving by 60\n",
    "\n",
    "200 / 60"
   ]
  },
  {
   "cell_type": "code",
   "execution_count": null,
   "id": "fe9a2a01-efc0-4e7a-8eaa-b23afcf7bfc6",
   "metadata": {},
   "outputs": [],
   "source": []
  }
 ],
 "metadata": {
  "kernelspec": {
   "display_name": "Python 3 (ipykernel)",
   "language": "python",
   "name": "python3"
  },
  "language_info": {
   "codemirror_mode": {
    "name": "ipython",
    "version": 3
   },
   "file_extension": ".py",
   "mimetype": "text/x-python",
   "name": "python",
   "nbconvert_exporter": "python",
   "pygments_lexer": "ipython3",
   "version": "3.10.9"
  }
 },
 "nbformat": 4,
 "nbformat_minor": 5
}
